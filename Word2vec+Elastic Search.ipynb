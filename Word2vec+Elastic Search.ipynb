{
 "cells": [
  {
   "cell_type": "code",
   "execution_count": 1,
   "id": "3e3915c0",
   "metadata": {},
   "outputs": [],
   "source": [
    "from gensim.models import Word2Vec\n",
    "import numpy as np\n",
    "from elasticsearch import Elasticsearch"
   ]
  },
  {
   "cell_type": "code",
   "execution_count": 2,
   "id": "a36a1484",
   "metadata": {},
   "outputs": [],
   "source": [
    "# Create an Elasticsearch client\n",
    "es = Elasticsearch(hosts='http://localhost:9200')\n",
    "# Index name and type\n",
    "index_name = \"movie_keywords\""
   ]
  },
  {
   "cell_type": "markdown",
   "id": "1f1e69b5",
   "metadata": {},
   "source": [
    "# movies_data represent movies keywords\n"
   ]
  },
  {
   "cell_type": "code",
   "execution_count": 3,
   "id": "12994122",
   "metadata": {},
   "outputs": [],
   "source": [
    "movies_data = [\n",
    "    {'id': 1, 'keywords': ['surfer', 'surfboard', 'surfing']},\n",
    "    {'id': 2, 'keywords': ['hotel', 'beach', 'vacation']},\n",
    "    {'id': 3, 'keywords': ['action', 'thriller', 'suspense activity']},\n",
    "    {'id': 4, 'keywords': ['playground', 'school', 'football match']},\n",
    "    {'id': 5, 'keywords': ['basketball match', 'university', 'sport','fun']},\n",
    "    \n",
    "    {'id': 6, 'keywords': ['drama', 'romance', 'love story']},\n",
    "    {'id': 7, 'keywords': ['comedy', 'laughter', 'fun','future']},\n",
    "    {'id': 8, 'keywords': ['adventure', 'treasure', 'exploration']},\n",
    "    {'id': 9, 'keywords': ['sci-fi', 'technology', 'future']},\n",
    "]"
   ]
  },
  {
   "cell_type": "markdown",
   "id": "067378b7",
   "metadata": {},
   "source": [
    "# Input keywords"
   ]
  },
  {
   "cell_type": "code",
   "execution_count": 4,
   "id": "19255ccc",
   "metadata": {},
   "outputs": [
    {
     "name": "stdout",
     "output_type": "stream",
     "text": [
      "Movie ID: 6 - Similarity: 0.680613100528717\n",
      "Movie ID: 4 - Similarity: 0.2695939540863037\n",
      "Movie ID: 9 - Similarity: 0.24582575261592865\n"
     ]
    }
   ],
   "source": [
    "# Input keywords\n",
    "input_keywords = ['drama', 'school','fun','love story']\n",
    "\n",
    "# Split phrases into words for both input keywords and movie keywords\n",
    "input_words = [word for phrase in input_keywords for word in phrase.split()]\n",
    "movies_words = [word for movie in movies_data for keyword in movie['keywords'] for word in keyword.split()]\n",
    "\n",
    "# Build Word2Vec model\n",
    "wmodel = Word2Vec([movies_words], min_count=1, vector_size=100)\n",
    "\n",
    "# Calculate the average vector for input keywords\n",
    "input_vector = np.mean([wmodel.wv[word] for word in input_words if word in wmodel.wv], axis=0)\n",
    "\n",
    "# Calculate cosine similarity between input vector and movie keyword vectors\n",
    "similarities = []\n",
    "for movie in movies_data:\n",
    "    movie_id = movie['id']\n",
    "    movie_keywords = movie['keywords']\n",
    "    keyword_vectors = [wmodel.wv[word] for keyword in movie_keywords for word in keyword.split() if word in wmodel.wv]\n",
    "    if keyword_vectors:\n",
    "        movie_vector = np.mean(keyword_vectors, axis=0)\n",
    "        similarity = np.dot(input_vector, movie_vector) / (np.linalg.norm(input_vector) * np.linalg.norm(movie_vector))\n",
    "        similarities.append((movie_id, similarity))\n",
    "\n",
    "# Sort by similarity\n",
    "similarities.sort(key=lambda x: x[1], reverse=True)\n",
    "\n",
    "# Output the top three movie IDs\n",
    "if similarities:\n",
    "    top_three_movies = similarities[:3]\n",
    "    for movie_id, similarity in top_three_movies:\n",
    "        print(f\"Movie ID: {movie_id} - Similarity: {similarity}\")\n",
    "else:\n",
    "    print(\"No movies found matching the input keywords.\")"
   ]
  },
  {
   "cell_type": "code",
   "execution_count": 9,
   "id": "cd297df0",
   "metadata": {},
   "outputs": [
    {
     "name": "stdout",
     "output_type": "stream",
     "text": [
      "Word2Vec is saved\n"
     ]
    }
   ],
   "source": [
    "wmodel.save(\"word2vec.model\")\n",
    "print(\"Word2Vec is saved\")"
   ]
  },
  {
   "cell_type": "code",
   "execution_count": 11,
   "id": "18e25528",
   "metadata": {},
   "outputs": [
    {
     "name": "stdout",
     "output_type": "stream",
     "text": [
      "Word2Vec is loaded\n"
     ]
    },
    {
     "data": {
      "text/plain": [
       "<gensim.models.word2vec.Word2Vec at 0x1adf8005660>"
      ]
     },
     "execution_count": 11,
     "metadata": {},
     "output_type": "execute_result"
    }
   ],
   "source": [
    "w2v = Word2Vec.load(\"word2vec.model\")\n",
    "\n",
    "print(\"Word2Vec is loaded\")\n",
    "w2v"
   ]
  },
  {
   "cell_type": "code",
   "execution_count": 5,
   "id": "a07caae4",
   "metadata": {},
   "outputs": [
    {
     "data": {
      "text/plain": [
       "(6, 0.6806131)"
      ]
     },
     "execution_count": 5,
     "metadata": {},
     "output_type": "execute_result"
    }
   ],
   "source": [
    "similarities[0]"
   ]
  },
  {
   "cell_type": "markdown",
   "id": "2c9c6469",
   "metadata": {},
   "source": [
    "# ES for storage"
   ]
  },
  {
   "cell_type": "code",
   "execution_count": 6,
   "id": "af637d15",
   "metadata": {},
   "outputs": [
    {
     "name": "stderr",
     "output_type": "stream",
     "text": [
      "C:\\Users\\16500\\AppData\\Local\\Temp\\ipykernel_28188\\2984973023.py:7: DeprecationWarning: The 'body' parameter is deprecated and will be removed in a future version. Instead use individual parameters.\n",
      "  es.indices.create(index=index_name, body={\n",
      "C:\\Users\\16500\\AppData\\Local\\Temp\\ipykernel_28188\\2984973023.py:31: DeprecationWarning: The 'body' parameter is deprecated and will be removed in a future version. Instead use the 'document' parameter. See https://github.com/elastic/elasticsearch-py/issues/1698 for more information\n",
      "  es.index(index=index_name,  body=doc)\n"
     ]
    }
   ],
   "source": [
    "# 删除已存在的索引\n",
    "if es.indices.exists(index=index_name):\n",
    "    es.indices.delete(index=index_name)\n",
    "\n",
    "\n",
    "# 创建新的索引并指定映射\n",
    "es.indices.create(index=index_name, body={\n",
    "    \"mappings\": {\n",
    "        \"properties\": {\n",
    "            \"movie_id\": {\"type\": \"integer\"},\n",
    "#             \"keywords\": {\"type\": \"nested\", \"properties\": {\"vector\": {\"type\": \"dense_vector\", \"dims\": 100}}}\n",
    "            \"keywords\": {\"type\": \"dense_vector\", \"dims\": 100}\n",
    "        }\n",
    "    }\n",
    "})\n",
    "\n",
    "# 将关键词向量索引到 Elasticsearch\n",
    "for movie in movies_data:\n",
    "    movie_id = movie['id']\n",
    "    movie_keywords = movie['keywords']\n",
    "    keyword_vectors = [wmodel.wv[word].tolist() for keyword in movie_keywords for word in keyword.split() if word in wmodel.wv]\n",
    "    if keyword_vectors:\n",
    "        nested_keywords = [{'vector': vector} for vector in keyword_vectors]\n",
    "        \n",
    "        movie_vector = np.mean(keyword_vectors, axis=0)\n",
    "        \n",
    "        doc = {\n",
    "            'movie_id': movie_id,\n",
    "            'keywords': movie_vector\n",
    "        }\n",
    "        es.index(index=index_name,  body=doc)\n",
    "\n",
    "# 刷新索引以确保数据可搜索\n",
    "# es.indices.refresh(index_name)\n"
   ]
  },
  {
   "cell_type": "code",
   "execution_count": 7,
   "id": "53d02168",
   "metadata": {},
   "outputs": [
    {
     "data": {
      "text/plain": [
       "(100,)"
      ]
     },
     "execution_count": 7,
     "metadata": {},
     "output_type": "execute_result"
    }
   ],
   "source": [
    "input_vector.shape"
   ]
  },
  {
   "cell_type": "markdown",
   "id": "50900c8c",
   "metadata": {},
   "source": [
    "# Query"
   ]
  },
  {
   "cell_type": "code",
   "execution_count": 8,
   "id": "fd3eefe4",
   "metadata": {},
   "outputs": [
    {
     "name": "stdout",
     "output_type": "stream",
     "text": [
      "No movies found matching the input keywords.\n"
     ]
    },
    {
     "name": "stderr",
     "output_type": "stream",
     "text": [
      "C:\\Users\\16500\\AppData\\Local\\Temp\\ipykernel_28188\\3946424437.py:16: DeprecationWarning: The 'body' parameter is deprecated and will be removed in a future version. Instead use individual parameters.\n",
      "  results = es.search(index=index_name, body=query)\n"
     ]
    }
   ],
   "source": [
    "query = {\n",
    "        \"query\": {\n",
    "            \"script_score\": {\n",
    "                \"query\": {\"match_all\": {}},\n",
    "                \"script\": {\n",
    "                    \"source\": \"cosineSimilarity(params.query_vector, 'keywords') + 1.0\",\n",
    "                    \"params\": {\"query_vector\": input_vector.tolist()}\n",
    "                }\n",
    "            }\n",
    "        },\n",
    "        \"size\": 5\n",
    "    }\n",
    "\n",
    "\n",
    "# 执行搜索查询\n",
    "results = es.search(index=index_name, body=query)\n",
    "\n",
    "# 输出匹配结果\n",
    "if results['hits']['total']['value'] > 0:\n",
    "    for hit in results['hits']['hits']:\n",
    "        movie_id = hit['_source']['movie_id']\n",
    "        similarity = hit['_score']\n",
    "        print(f\"Movie ID: {movie_id} - Similarity: {similarity}\")\n",
    "else:\n",
    "    print(\"No movies found matching the input keywords.\")\n"
   ]
  }
 ],
 "metadata": {
  "kernelspec": {
   "display_name": "Python 3 (ipykernel)",
   "language": "python",
   "name": "python3"
  },
  "language_info": {
   "codemirror_mode": {
    "name": "ipython",
    "version": 3
   },
   "file_extension": ".py",
   "mimetype": "text/x-python",
   "name": "python",
   "nbconvert_exporter": "python",
   "pygments_lexer": "ipython3",
   "version": "3.10.7"
  }
 },
 "nbformat": 4,
 "nbformat_minor": 5
}
