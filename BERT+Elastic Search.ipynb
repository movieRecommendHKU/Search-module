{
 "cells": [
  {
   "cell_type": "code",
   "execution_count": 49,
   "id": "3a3400e1",
   "metadata": {},
   "outputs": [],
   "source": [
    "from transformers import DistilBertModel,DistilBertTokenizer,BertTokenizer, BertModel\n",
    "import torch\n",
    "from sklearn.metrics.pairwise import cosine_similarity\n",
    "import pandas as pd\n",
    "import re\n",
    "from transformers import DistilBertModel, DistilBertTokenizer\n",
    "from elasticsearch import Elasticsearch\n",
    "import time\n",
    "from elasticsearch.helpers import bulk\n",
    "import numpy as np\n",
    "from sklearn.decomposition import PCA\n",
    "from sklearn.preprocessing import MinMaxScaler\n",
    "from elasticsearch.helpers import bulk, BulkIndexError\n",
    "import joblib"
   ]
  },
  {
   "cell_type": "code",
   "execution_count": 17,
   "id": "68b205ff",
   "metadata": {},
   "outputs": [],
   "source": [
    "Elasticsearch.requestTimeout: 90000\n",
    "max_length = 40 # bert 句子向量的最大值\n",
    "input_length = 23 # torch.Size([44320, 23, 768]) 这个要跟中间的23长度对应（第四个代码框），因为description里面长度影响结果\n",
    "n_components = 900 #PCA降维后的维度\n",
    "movie_num = 44320 # movie number\n",
    "# input_sentence means the description user input\n",
    "# host is:'http://localhost:9200'\n",
    "\n",
    "# 需要保存三个文件 第一个是pca矩阵 第二个是normalized的最大值最小值数组"
   ]
  },
  {
   "cell_type": "code",
   "execution_count": 3,
   "id": "682238d1",
   "metadata": {
    "scrolled": true
   },
   "outputs": [
    {
     "name": "stderr",
     "output_type": "stream",
     "text": [
      "Some weights of the model checkpoint at distilbert-base-uncased were not used when initializing DistilBertModel: ['vocab_transform.bias', 'vocab_projector.weight', 'vocab_layer_norm.bias', 'vocab_layer_norm.weight', 'vocab_transform.weight', 'vocab_projector.bias']\n",
      "- This IS expected if you are initializing DistilBertModel from the checkpoint of a model trained on another task or with another architecture (e.g. initializing a BertForSequenceClassification model from a BertForPreTraining model).\n",
      "- This IS NOT expected if you are initializing DistilBertModel from the checkpoint of a model that you expect to be exactly identical (initializing a BertForSequenceClassification model from a BertForSequenceClassification model).\n",
      "C:\\Users\\16500\\AppData\\Local\\Temp\\ipykernel_1880\\3202862208.py:5: DtypeWarning: Columns (0,1,3,6,38,41,42,43,45,46,47,48,49) have mixed types. Specify dtype option on import or set low_memory=False.\n",
      "  movie_data = pd.read_csv('C:\\\\Users\\\\16500\\\\Desktop\\\\COMP7705 Project\\\\Dataset\\\\m.csv')\n"
     ]
    },
    {
     "name": "stdout",
     "output_type": "stream",
     "text": [
      "tensor([[-0.1813,  0.0574,  0.1665,  ..., -0.0052,  0.1270,  0.1243],\n",
      "        [ 0.0735, -0.0664,  0.2780,  ...,  0.0308,  0.1524,  0.0677],\n",
      "        [-0.0502,  0.1476,  0.0210,  ...,  0.2464,  0.0771, -0.2482],\n",
      "        ...,\n",
      "        [ 0.1926, -0.1003,  0.0791,  ...,  0.3455,  0.1029, -0.1931],\n",
      "        [ 0.1716, -0.1461,  0.1154,  ...,  0.3566,  0.1148, -0.2806],\n",
      "        [ 0.1566, -0.1967,  0.1446,  ...,  0.3273,  0.1331, -0.3121]])\n"
     ]
    }
   ],
   "source": [
    "# tokenizer = BertTokenizer.from_pretrained('distilbert-base-uncased')\n",
    "# model = BertModel.from_pretrained('distilbert-base-uncased')#bert-base-uncased\n",
    "tokenizer = DistilBertTokenizer.from_pretrained('distilbert-base-uncased')\n",
    "model = DistilBertModel.from_pretrained('distilbert-base-uncased')\n",
    "\n",
    "\n",
    "movie_data = pd.read_csv('C:\\\\Users\\\\16500\\\\Desktop\\\\COMP7705 Project\\\\Dataset\\\\m.csv')\n",
    "\n",
    "# A function to remove punctuation marks\n",
    "def remove_punctuation(text):\n",
    "    cleaned_text = re.sub(r'[^\\w\\s]', '', text)\n",
    "    cleaned_text = re.sub(r'[^\\x00-\\x7F]+', '', cleaned_text)  # Remove Chinese garbled characters\n",
    "    return cleaned_text\n",
    "\n",
    "# Remove punctuation from the description\n",
    "text = movie_data['overview'].astype(str).apply(remove_punctuation)\n",
    "title = movie_data['title'].astype(str)\n",
    "\n",
    "# Define the text to be encoded\n",
    "input_text = text.copy()\n",
    "\n",
    "# If the text length is less than the maximum length, it is filled\n",
    "input_text = input_text.apply(lambda x: x[:max_length-2])  # Consider adding the length of the start and end tags\n",
    "input_text = input_text.apply(lambda x: '[CLS]' + x + '[SEP]')\n",
    "\n",
    "# Word segmentation and encoding of text using a tokenizer\n",
    "tokens = tokenizer.batch_encode_plus(\n",
    "    input_text.tolist(),\n",
    "    padding='longest',\n",
    "    truncation=True,\n",
    "    max_length=max_length,\n",
    "    return_tensors='pt'\n",
    ")\n",
    "\n",
    "# Input the encoded text into the BERT model to get the output\n",
    "with torch.no_grad():\n",
    "    outputs = model(**tokens)\n",
    "\n",
    "# Gets the output of the last hidden layer as an embedded representation of the word\n",
    "embeddings = outputs.last_hidden_state\n",
    "\n",
    "# Print the embedded representation of the first word\n",
    "print(embeddings[0])\n",
    "\n"
   ]
  },
  {
   "cell_type": "code",
   "execution_count": 6,
   "id": "b66ed4e6",
   "metadata": {},
   "outputs": [
    {
     "data": {
      "text/plain": [
       "torch.Size([44320, 23, 768])"
      ]
     },
     "execution_count": 6,
     "metadata": {},
     "output_type": "execute_result"
    }
   ],
   "source": [
    "embeddings.shape"
   ]
  },
  {
   "cell_type": "code",
   "execution_count": 9,
   "id": "ad6a8cae",
   "metadata": {},
   "outputs": [],
   "source": [
    "# e = embeddings.reshape(998, -1) # transform to 1*14592 \n",
    "e = embeddings.reshape(movie_num, -1) # transform to 1*14592 \n"
   ]
  },
  {
   "cell_type": "code",
   "execution_count": 10,
   "id": "6c7088cd",
   "metadata": {},
   "outputs": [
    {
     "name": "stdout",
     "output_type": "stream",
     "text": [
      "(44320, 17664)\n"
     ]
    }
   ],
   "source": [
    "# Convert a floating point tensor to a numpy array\n",
    "A = e.numpy()\n",
    "print(A.shape)\n",
    "\n",
    "# Create PCA models and fit the data\n",
    "\n",
    "pca = PCA(n_components=n_components)\n",
    "pca.fit(A)\n",
    "\n",
    "# Performing PCA dimension reduction\n",
    "embedding_pca = pca.transform(A)\n",
    "\n",
    "# The result of dimensionality reduction was normalized\n",
    "scaler1 = MinMaxScaler(feature_range=(-1, 1))\n",
    "embedding_pca_scaled = scaler1.fit_transform(embedding_pca)\n",
    "min_val = scaler1.data_min_\n",
    "max_val = scaler1.data_max_\n",
    "# print(min_val,max_val)\n",
    "# print(embedding_pca_scaled.shape)\n",
    "\n",
    "# Save the minimum and maximum values as parameters\n",
    "params = {'min_val': min_val, 'max_val': max_val}"
   ]
  },
  {
   "cell_type": "code",
   "execution_count": 51,
   "id": "36321a56",
   "metadata": {},
   "outputs": [
    {
     "name": "stdout",
     "output_type": "stream",
     "text": [
      "PCA save to pca_model.pkl\n"
     ]
    },
    {
     "data": {
      "text/html": [
       "<style>#sk-container-id-1 {color: black;background-color: white;}#sk-container-id-1 pre{padding: 0;}#sk-container-id-1 div.sk-toggleable {background-color: white;}#sk-container-id-1 label.sk-toggleable__label {cursor: pointer;display: block;width: 100%;margin-bottom: 0;padding: 0.3em;box-sizing: border-box;text-align: center;}#sk-container-id-1 label.sk-toggleable__label-arrow:before {content: \"▸\";float: left;margin-right: 0.25em;color: #696969;}#sk-container-id-1 label.sk-toggleable__label-arrow:hover:before {color: black;}#sk-container-id-1 div.sk-estimator:hover label.sk-toggleable__label-arrow:before {color: black;}#sk-container-id-1 div.sk-toggleable__content {max-height: 0;max-width: 0;overflow: hidden;text-align: left;background-color: #f0f8ff;}#sk-container-id-1 div.sk-toggleable__content pre {margin: 0.2em;color: black;border-radius: 0.25em;background-color: #f0f8ff;}#sk-container-id-1 input.sk-toggleable__control:checked~div.sk-toggleable__content {max-height: 200px;max-width: 100%;overflow: auto;}#sk-container-id-1 input.sk-toggleable__control:checked~label.sk-toggleable__label-arrow:before {content: \"▾\";}#sk-container-id-1 div.sk-estimator input.sk-toggleable__control:checked~label.sk-toggleable__label {background-color: #d4ebff;}#sk-container-id-1 div.sk-label input.sk-toggleable__control:checked~label.sk-toggleable__label {background-color: #d4ebff;}#sk-container-id-1 input.sk-hidden--visually {border: 0;clip: rect(1px 1px 1px 1px);clip: rect(1px, 1px, 1px, 1px);height: 1px;margin: -1px;overflow: hidden;padding: 0;position: absolute;width: 1px;}#sk-container-id-1 div.sk-estimator {font-family: monospace;background-color: #f0f8ff;border: 1px dotted black;border-radius: 0.25em;box-sizing: border-box;margin-bottom: 0.5em;}#sk-container-id-1 div.sk-estimator:hover {background-color: #d4ebff;}#sk-container-id-1 div.sk-parallel-item::after {content: \"\";width: 100%;border-bottom: 1px solid gray;flex-grow: 1;}#sk-container-id-1 div.sk-label:hover label.sk-toggleable__label {background-color: #d4ebff;}#sk-container-id-1 div.sk-serial::before {content: \"\";position: absolute;border-left: 1px solid gray;box-sizing: border-box;top: 0;bottom: 0;left: 50%;z-index: 0;}#sk-container-id-1 div.sk-serial {display: flex;flex-direction: column;align-items: center;background-color: white;padding-right: 0.2em;padding-left: 0.2em;position: relative;}#sk-container-id-1 div.sk-item {position: relative;z-index: 1;}#sk-container-id-1 div.sk-parallel {display: flex;align-items: stretch;justify-content: center;background-color: white;position: relative;}#sk-container-id-1 div.sk-item::before, #sk-container-id-1 div.sk-parallel-item::before {content: \"\";position: absolute;border-left: 1px solid gray;box-sizing: border-box;top: 0;bottom: 0;left: 50%;z-index: -1;}#sk-container-id-1 div.sk-parallel-item {display: flex;flex-direction: column;z-index: 1;position: relative;background-color: white;}#sk-container-id-1 div.sk-parallel-item:first-child::after {align-self: flex-end;width: 50%;}#sk-container-id-1 div.sk-parallel-item:last-child::after {align-self: flex-start;width: 50%;}#sk-container-id-1 div.sk-parallel-item:only-child::after {width: 0;}#sk-container-id-1 div.sk-dashed-wrapped {border: 1px dashed gray;margin: 0 0.4em 0.5em 0.4em;box-sizing: border-box;padding-bottom: 0.4em;background-color: white;}#sk-container-id-1 div.sk-label label {font-family: monospace;font-weight: bold;display: inline-block;line-height: 1.2em;}#sk-container-id-1 div.sk-label-container {text-align: center;}#sk-container-id-1 div.sk-container {/* jupyter's `normalize.less` sets `[hidden] { display: none; }` but bootstrap.min.css set `[hidden] { display: none !important; }` so we also need the `!important` here to be able to override the default hidden behavior on the sphinx rendered scikit-learn.org. See: https://github.com/scikit-learn/scikit-learn/issues/21755 */display: inline-block !important;position: relative;}#sk-container-id-1 div.sk-text-repr-fallback {display: none;}</style><div id=\"sk-container-id-1\" class=\"sk-top-container\"><div class=\"sk-text-repr-fallback\"><pre>PCA(n_components=900)</pre><b>In a Jupyter environment, please rerun this cell to show the HTML representation or trust the notebook. <br />On GitHub, the HTML representation is unable to render, please try loading this page with nbviewer.org.</b></div><div class=\"sk-container\" hidden><div class=\"sk-item\"><div class=\"sk-estimator sk-toggleable\"><input class=\"sk-toggleable__control sk-hidden--visually\" id=\"sk-estimator-id-1\" type=\"checkbox\" checked><label for=\"sk-estimator-id-1\" class=\"sk-toggleable__label sk-toggleable__label-arrow\">PCA</label><div class=\"sk-toggleable__content\"><pre>PCA(n_components=900)</pre></div></div></div></div></div>"
      ],
      "text/plain": [
       "PCA(n_components=900)"
      ]
     },
     "execution_count": 51,
     "metadata": {},
     "output_type": "execute_result"
    }
   ],
   "source": [
    "joblib.dump(pca, 'pca_model.pkl')\n",
    "print(\"PCA save to pca_model.pkl\")\n",
    "pca = joblib.load('pca_model.pkl')\n",
    "pca"
   ]
  },
  {
   "cell_type": "code",
   "execution_count": 60,
   "id": "c0dba867",
   "metadata": {},
   "outputs": [],
   "source": [
    "# print((min_val.shape))\n",
    "# print(min_val,max_val)\n",
    "min_val = scaler1.data_min_\n",
    "max_val = scaler1.data_max_\n",
    "np.save('min_val.npy', min_val)\n",
    "np.save('max_val.npy', max_val)\n",
    "min_val_load = np.load('min_val.npy')\n",
    "max_val_load = np.load('max_val.npy')\n"
   ]
  },
  {
   "cell_type": "code",
   "execution_count": 11,
   "id": "379e77fc",
   "metadata": {},
   "outputs": [
    {
     "data": {
      "text/plain": [
       "array([-8.82123590e-01, -2.64966071e-01, -5.98165214e-01, -2.34743312e-01,\n",
       "        3.04510385e-01, -6.67465031e-01, -8.58974084e-02, -1.06428728e-01,\n",
       "       -2.23919094e-01, -3.40628475e-01, -2.94826090e-01, -1.89420953e-01,\n",
       "       -3.94587636e-01, -4.06518430e-01,  4.79652673e-01, -1.13538772e-01,\n",
       "       -2.14205518e-01, -4.20148037e-02, -4.19248164e-01, -8.45535845e-03,\n",
       "       -2.46765122e-01, -1.16412655e-01, -1.41649038e-01, -3.68033238e-02,\n",
       "       -2.44288817e-02, -1.94472224e-01, -2.12964863e-01, -4.94941361e-02,\n",
       "       -3.42215061e-01, -2.07310189e-02,  1.48657516e-01, -1.93170190e-01,\n",
       "        2.16150954e-02, -1.57360151e-01, -9.07145813e-02, -1.22617334e-01,\n",
       "        1.05403319e-01, -2.38230050e-01,  1.18965298e-01, -2.32061028e-01,\n",
       "       -2.28489891e-01, -9.23217535e-02, -1.54602125e-01, -1.89369842e-01,\n",
       "        9.39393640e-02, -5.25224328e-01,  1.76450573e-02, -8.46208185e-02,\n",
       "        3.70062441e-02, -1.04545891e-01, -4.80969846e-01,  3.87251377e-02,\n",
       "       -9.39062461e-02, -3.25472146e-01, -4.01666641e-01, -1.35639682e-01,\n",
       "       -2.70349443e-01,  3.39339674e-03, -5.71645319e-01, -3.02167773e-01,\n",
       "       -2.10144952e-01, -9.39012617e-02, -1.44416302e-01, -3.36278230e-02,\n",
       "        1.29534364e-01,  5.06358705e-02, -1.55545585e-02,  1.28226578e-02,\n",
       "        2.96870675e-02, -1.58626944e-01, -4.14859392e-02, -4.26973179e-02,\n",
       "        1.74286157e-01, -2.30874777e-01, -3.97113152e-02, -1.71221286e-01,\n",
       "        3.97247195e-01, -2.26357415e-01, -5.31051606e-02,  1.53179586e-01,\n",
       "       -2.16930002e-01, -1.57141406e-02, -2.50431538e-01,  4.33749631e-02,\n",
       "        1.49580359e-01,  3.58151793e-02, -4.96736825e-01, -1.77760109e-01,\n",
       "        2.01486379e-01, -1.68805435e-01, -4.91177812e-02,  3.63147557e-02,\n",
       "       -1.82407647e-01,  1.47332773e-01, -2.80598272e-02, -7.33426809e-02,\n",
       "        7.70877451e-02,  1.72027737e-01, -3.17941815e-01,  5.72171807e-02,\n",
       "       -2.68821213e-02, -3.44647765e-01,  3.54760796e-01, -9.43515152e-02,\n",
       "       -4.58724588e-01, -1.99572276e-02,  7.17216283e-02, -4.28246051e-01,\n",
       "        5.86756617e-02, -3.52825701e-01, -1.79078728e-01, -1.92299291e-01,\n",
       "        2.39934206e-01,  1.64030179e-01, -6.53728247e-02, -5.66085815e-01,\n",
       "       -2.82025397e-01, -6.89361095e-02, -1.88492566e-01,  1.06125534e-01,\n",
       "       -3.55074823e-01, -5.03227949e-01, -1.04914866e-01, -1.33282304e-01,\n",
       "        2.65445590e-01,  4.07800861e-02, -2.78003842e-01, -5.67724183e-02,\n",
       "       -1.60635591e-01, -1.92262143e-01, -3.00670564e-01, -4.28904057e-01,\n",
       "        1.62151694e-01,  5.14616817e-02, -1.41027123e-01, -4.21993770e-02,\n",
       "       -6.23899922e-02, -4.05002892e-01, -1.62021533e-01, -1.73419565e-02,\n",
       "        8.86868685e-02, -1.53837487e-01,  1.03431910e-01, -7.14391619e-02,\n",
       "       -4.10188958e-02, -3.13811004e-01,  1.23598456e-01, -4.76568818e-01,\n",
       "       -3.56228590e-01, -2.12505400e-01,  6.65533543e-03, -1.56300455e-01,\n",
       "       -2.23916978e-01, -2.29610711e-01, -2.04239145e-01,  3.03361416e-02,\n",
       "       -6.21552840e-02,  2.22720668e-01, -1.94344178e-01,  1.01514570e-02,\n",
       "       -2.06391945e-01,  7.52551556e-02,  2.67289132e-01, -2.20207661e-01,\n",
       "       -5.78184545e-01, -4.13068652e-01, -1.77576393e-01,  4.32203338e-02,\n",
       "       -2.13969916e-01, -3.51765156e-01,  1.74533606e-01, -3.23106825e-01,\n",
       "       -6.23324625e-02,  2.83134431e-02, -1.28069639e-01, -1.52307414e-02,\n",
       "       -1.10630125e-01, -6.23540841e-02,  2.05512032e-01, -1.92343578e-01,\n",
       "       -1.58138290e-01, -2.92611897e-01, -3.72854590e-01,  4.22063798e-01,\n",
       "       -1.38043582e-01, -8.28768611e-02, -3.09865326e-01, -1.85304269e-01,\n",
       "        5.05070835e-02,  1.74253583e-02,  1.09684959e-01, -2.48161480e-01,\n",
       "       -1.21577665e-01,  2.11389586e-02,  1.02696002e-01,  3.78612041e-01,\n",
       "       -2.29521349e-01,  3.22724342e-01, -2.94624060e-01,  8.23401436e-02,\n",
       "       -2.05422372e-01, -1.69442877e-01, -2.07486600e-02,  3.82872134e-01,\n",
       "       -3.24988753e-01,  1.03696510e-01,  3.66070896e-01,  1.63287789e-01,\n",
       "       -6.14052359e-03, -4.74520355e-01, -3.13324660e-01,  2.21010894e-02,\n",
       "       -1.34254843e-01, -1.82910964e-01,  1.88227206e-01,  1.91231892e-01,\n",
       "       -3.19519252e-01,  2.78812647e-02, -6.83680326e-02, -4.94312465e-01,\n",
       "       -2.43403003e-01,  8.76961350e-02, -4.61543262e-01, -2.08288208e-01,\n",
       "       -4.48485613e-02,  1.60586774e-01,  3.54795575e-01, -1.35155439e-01,\n",
       "        2.44775355e-01,  2.67896801e-01, -2.90669113e-01,  8.38647559e-02,\n",
       "       -3.05046797e-01, -1.06089562e-01,  6.17367476e-02,  2.16444582e-02,\n",
       "       -1.17486067e-01,  1.01956427e-02, -7.17106834e-02, -6.86985701e-02,\n",
       "        1.70780763e-01,  2.23697305e-01, -6.62496611e-02,  1.23805597e-01,\n",
       "       -1.35567456e-01,  5.49626499e-02, -3.55711699e-01, -9.45894569e-02,\n",
       "       -2.90322483e-01, -9.72306654e-02, -1.13844303e-02, -2.75902599e-02,\n",
       "        4.42968085e-02,  1.31816575e-02,  2.52525121e-01,  5.21535337e-01,\n",
       "       -2.65483916e-01, -2.11534455e-01,  2.73052782e-01,  6.30507618e-03,\n",
       "       -1.91668496e-01, -6.98766932e-02, -2.38789633e-01, -1.74161270e-01,\n",
       "       -8.25498626e-02, -9.98364836e-02, -2.55488932e-01, -4.04167950e-01,\n",
       "       -5.92120700e-02, -3.62295300e-01,  8.75800848e-03,  1.87940106e-01,\n",
       "       -1.62636846e-01, -2.07900375e-01, -2.17652559e-01, -1.70490853e-02,\n",
       "       -1.09662071e-01, -5.59304990e-02,  1.21160209e-01, -1.00220919e-01,\n",
       "       -2.59505719e-01, -6.21669181e-02, -5.56309342e-01, -9.59611014e-02,\n",
       "        2.32218504e-01, -3.46528441e-02, -5.53284764e-01,  1.73710659e-02,\n",
       "        9.83917713e-02, -8.10761899e-02,  2.61300713e-01, -1.23446465e-01,\n",
       "       -1.14545666e-01, -2.19184384e-02, -8.60506073e-02,  2.02907473e-02,\n",
       "       -1.11430049e-01, -4.97112453e-01, -1.85990587e-01, -4.62308377e-01,\n",
       "       -1.30644470e-01,  4.76453066e-01,  4.11409348e-01, -1.82194829e-01,\n",
       "       -8.39552134e-02, -1.89769462e-01, -2.49469861e-01, -2.52499372e-01,\n",
       "       -2.80790389e-01,  5.13871461e-02, -3.04338783e-01,  6.22969270e-02,\n",
       "        4.10937190e-01, -3.42063963e-01, -2.68319488e-01,  7.48032928e-02,\n",
       "       -1.46350622e-01, -1.01294555e-01, -5.87339662e-02, -1.48508340e-01,\n",
       "       -1.66331336e-01, -1.89445034e-01, -3.09862614e-01, -1.05909154e-01,\n",
       "       -1.95255373e-02,  1.22892439e-01,  3.64974231e-01, -1.14010334e-01,\n",
       "        4.01567519e-01, -2.02484727e-01, -3.26619864e-01, -3.04604053e-01,\n",
       "       -1.30676538e-01,  2.67204016e-01,  1.17079824e-01,  3.04577380e-01,\n",
       "       -8.13655332e-02,  2.22188443e-01, -1.21621452e-01, -3.53791058e-01,\n",
       "        1.45475462e-01,  1.32235676e-01, -9.18591470e-02, -9.68337134e-02,\n",
       "       -2.77358294e-01, -2.97337890e-01, -3.61750782e-01, -2.53287077e-01,\n",
       "        7.05769807e-02, -2.29961768e-01, -1.97283581e-01,  3.25488448e-02,\n",
       "        2.01204926e-01,  6.96341693e-02,  3.03617641e-02, -2.01132417e-01,\n",
       "       -1.67083830e-01,  1.75511047e-01,  1.89859048e-02, -2.26371348e-01,\n",
       "       -1.64499342e-01, -9.32740569e-02, -6.61516190e-03, -7.78558254e-02,\n",
       "        2.20115617e-01, -7.29686841e-02,  1.93075880e-01, -2.40029454e-01,\n",
       "        1.83232263e-01,  1.96979687e-01, -8.60427618e-02, -2.48720720e-01,\n",
       "        6.98439479e-02,  1.22819871e-01, -8.74136388e-02, -1.46722019e-01,\n",
       "       -2.31970415e-01,  2.34020978e-01,  1.18176907e-01, -6.19644187e-02,\n",
       "        3.45042378e-01, -3.43793184e-01, -1.10815400e-02,  1.30773455e-01,\n",
       "       -1.10223137e-01,  3.93390000e-01, -2.43915811e-01, -6.72063883e-03,\n",
       "       -1.15870312e-01,  5.97930998e-02, -8.29042196e-02,  9.98029411e-02,\n",
       "        1.14059299e-01, -3.10469389e-01, -3.41490418e-01, -1.14265665e-01,\n",
       "        1.05103023e-01,  1.46298856e-02,  2.93752462e-01,  1.72738791e-01,\n",
       "        5.01435176e-02,  2.12488353e-01,  1.57259889e-02, -1.37094036e-01,\n",
       "       -1.84396505e-01,  3.83326352e-01, -7.51194954e-02,  2.88664848e-01,\n",
       "        1.24468163e-01,  7.96001703e-02,  1.76689520e-01, -3.18357676e-01,\n",
       "       -2.59743273e-01, -9.13781226e-02, -3.99121910e-01,  1.42343715e-01,\n",
       "        3.80465537e-02, -2.72396207e-01,  4.93972227e-02,  6.79302514e-02,\n",
       "        1.91026866e-01, -2.68366873e-01,  1.48570284e-01,  9.43063945e-03,\n",
       "        5.33998460e-02, -6.20998070e-02,  1.31108999e-01,  5.01398087e-01,\n",
       "       -4.54589874e-01,  3.80751006e-02,  7.59408996e-02,  3.12697530e-01,\n",
       "       -1.79068938e-01, -7.33857825e-02,  2.41905302e-01, -5.05868671e-03,\n",
       "       -1.86119825e-01,  4.02207762e-01,  5.68701476e-02, -1.04432769e-01,\n",
       "       -4.24749553e-01, -3.70437615e-02, -1.49944991e-01, -3.63878667e-01,\n",
       "       -9.81479138e-02, -4.16492373e-02,  1.49445236e-01, -4.75677438e-02,\n",
       "       -1.30987644e-01,  1.67943433e-01,  3.48920494e-01, -5.68847418e-01,\n",
       "       -2.13214472e-01, -2.40375161e-01,  1.33749992e-01,  1.61412776e-01,\n",
       "       -1.03673255e-02,  1.12469412e-01, -1.34035110e-01,  2.37065554e-03,\n",
       "       -3.50432336e-01,  1.71445459e-01, -1.28519118e-01, -2.06271946e-01,\n",
       "       -5.34053259e-02,  1.63773045e-01,  2.17728689e-02,  1.74321562e-01,\n",
       "        9.60735232e-02, -2.27326736e-01,  7.40355626e-03,  7.51759261e-02,\n",
       "       -2.58148193e-01, -1.45431727e-01,  7.34212846e-02, -6.17631599e-02,\n",
       "        2.96270013e-01,  3.89957279e-01,  6.37771040e-02,  4.71583009e-02,\n",
       "       -4.33376908e-01,  4.25868034e-02,  8.96999612e-02, -2.03468889e-01,\n",
       "       -2.69229952e-02, -4.57636684e-01,  1.62081122e-01,  1.03651453e-02,\n",
       "        1.48125380e-01, -2.09395718e-02, -1.82111785e-01, -3.44204187e-01,\n",
       "       -2.86542296e-01, -2.37123221e-01, -2.14525357e-01, -1.44835696e-01,\n",
       "       -3.40147555e-01, -8.95783454e-02, -1.88616142e-02, -9.09768790e-03,\n",
       "        1.52977243e-01,  5.66321202e-02, -1.66307032e-01, -1.56912461e-01,\n",
       "        3.89370948e-01,  9.28613842e-02, -3.58926803e-01, -1.83077246e-01,\n",
       "        9.23134945e-03, -1.53676093e-01, -9.41865519e-02,  4.15601954e-03,\n",
       "        5.03956676e-02,  2.50369847e-01, -1.40255496e-01, -8.88802856e-02,\n",
       "       -1.79167956e-01, -6.86919317e-02,  7.11686164e-02, -7.20067099e-02,\n",
       "       -5.32948017e-01, -6.04289353e-01, -3.53144079e-01,  1.03073359e-01,\n",
       "        3.11481208e-01, -4.74937439e-01,  8.75652134e-02,  1.71357945e-01,\n",
       "       -1.60736963e-01, -1.03668883e-01, -1.56070679e-01, -1.11895278e-01,\n",
       "        1.18975565e-01, -1.03544980e-01, -4.37325954e-01, -1.57136116e-02,\n",
       "       -3.60126793e-01,  1.10041961e-01, -7.19320700e-02, -2.65350193e-01,\n",
       "       -2.58746862e-01, -2.60573238e-01,  1.68741912e-01, -5.77202737e-02,\n",
       "        3.51464063e-01, -1.42222226e-01, -2.56142944e-01, -1.81935459e-01,\n",
       "       -1.84220016e-01, -6.96757734e-02,  3.10433924e-01, -6.99297339e-02,\n",
       "       -1.15336105e-01, -2.79164761e-01, -2.46763006e-01,  3.42348963e-02,\n",
       "       -2.49335214e-01,  2.83942103e-01,  3.08398902e-03, -3.32727194e-01,\n",
       "       -6.53591752e-03, -5.82858697e-02, -1.48920640e-01,  1.36815250e-01,\n",
       "       -1.88304618e-01, -1.11513205e-01,  8.45565200e-02,  2.06729621e-01,\n",
       "       -2.14743361e-01,  1.80741772e-03, -5.41404895e-02,  2.15493679e-01,\n",
       "        7.64880329e-03, -3.37605551e-02, -1.19298473e-01, -1.37383565e-01,\n",
       "        2.12398022e-01, -2.44625121e-01,  3.49749699e-02, -1.67137146e-01,\n",
       "       -1.51974544e-01, -1.36396348e-01,  2.54926056e-01,  2.16976449e-01,\n",
       "       -2.25331783e-01, -4.83257398e-02, -3.07004780e-01, -5.95688343e-01,\n",
       "       -2.34681025e-01, -9.33768451e-02,  3.95391434e-01, -2.21015334e-01,\n",
       "        9.35670659e-02,  3.92734587e-01,  7.35784099e-02,  2.19852448e-01,\n",
       "       -1.81576669e-01, -1.83659732e-01,  1.26400083e-01, -8.38274732e-02,\n",
       "       -1.09826125e-01, -6.86944574e-02, -6.07888661e-02,  1.73863500e-01,\n",
       "       -6.22940883e-02, -9.79353860e-02, -9.46746692e-02, -2.97662199e-01,\n",
       "        1.31289378e-01,  1.61326267e-02,  1.64297253e-01, -1.12893015e-01,\n",
       "       -3.46108347e-01, -1.10912070e-01,  1.07747614e-01,  3.48947912e-01,\n",
       "       -3.66087198e-01, -1.41783044e-01,  5.12658060e-03,  2.62668431e-01,\n",
       "       -2.38584638e-01,  9.13294964e-04, -3.58845174e-01, -2.53162354e-01,\n",
       "       -2.81055689e-01, -2.97167420e-01,  5.88174835e-02,  4.75654677e-02,\n",
       "       -1.71180800e-01, -3.02384198e-01, -1.34787261e-01, -1.98957637e-01,\n",
       "        4.16590348e-02,  2.89261043e-01, -5.64568937e-01, -8.28978866e-02,\n",
       "       -3.36746782e-01,  6.73159361e-02,  1.98312566e-01, -6.34940743e-01,\n",
       "       -2.63629913e-01, -2.58876264e-01,  1.78119689e-01, -1.11644343e-01,\n",
       "       -1.23857751e-01,  7.63590336e-02, -2.29321092e-01, -9.16567594e-02,\n",
       "        3.15780491e-01, -5.20784222e-02,  2.80539423e-01, -8.67928714e-02,\n",
       "       -4.21639122e-02,  1.25009328e-01,  2.35774368e-02,  2.07734406e-02,\n",
       "        4.06511724e-02, -9.51121598e-02, -2.18697667e-01,  1.73779473e-01,\n",
       "       -1.90511703e-01, -2.08530612e-02, -2.73609489e-01,  2.37370700e-01,\n",
       "       -2.35447511e-01, -3.77535541e-03, -1.18716575e-01, -3.37612867e-01,\n",
       "       -2.38286704e-01, -7.45556951e-02, -3.59505057e-01, -6.37133867e-02,\n",
       "        6.65741041e-02, -2.04195857e-01, -1.23367302e-01, -1.50026828e-01,\n",
       "        1.29334554e-01, -2.02810451e-01,  3.16807888e-02,  4.51142967e-01,\n",
       "       -6.96414933e-02, -4.04587388e-01, -3.95348072e-02,  3.27026621e-02,\n",
       "       -2.20277943e-02,  1.74488142e-01, -1.07379578e-01,  3.15015167e-01,\n",
       "       -1.06269747e-01,  3.40234600e-02,  2.33545467e-01, -2.80152142e-01,\n",
       "        4.31087613e-03, -4.20609862e-02, -4.08168167e-01, -1.54534012e-01,\n",
       "       -7.09237009e-02, -3.01938839e-02,  8.70649144e-02, -2.34149069e-01,\n",
       "        8.66008252e-02, -3.12024914e-02, -4.12475318e-02,  8.92038345e-02,\n",
       "        8.80421624e-02, -1.17121220e-01, -2.66152292e-01,  4.92363751e-01,\n",
       "       -9.08204839e-02, -8.04593042e-02, -1.46191269e-01,  1.32467940e-01,\n",
       "       -1.36426955e-01, -1.00542843e-01, -1.16170473e-01, -1.40322268e-01,\n",
       "        6.16357401e-02,  1.22745223e-02, -3.10427219e-01, -8.38155523e-02,\n",
       "       -9.30789113e-02, -2.43971050e-01,  4.44800556e-01, -8.88147205e-03,\n",
       "        1.56613737e-01, -3.33952159e-03,  3.83513868e-02,  3.67094800e-02,\n",
       "       -3.95895004e-01,  2.05372602e-01,  1.46529406e-01,  1.52903780e-01,\n",
       "       -1.19250044e-01,  3.10748369e-02,  1.20161921e-01,  2.95713544e-03,\n",
       "        4.39133458e-02, -3.32223088e-01, -7.76932761e-02, -2.03205168e-01,\n",
       "       -1.92168772e-01,  6.91317767e-02, -1.21002302e-01, -1.21932693e-01,\n",
       "        8.21432620e-02, -2.14078143e-01, -7.22460389e-01, -2.04301029e-02,\n",
       "       -1.16725981e-01,  1.27033472e-01,  3.31966132e-02,  1.85823590e-01,\n",
       "       -2.31899902e-01,  1.55739054e-01, -1.22554898e-01, -2.93605700e-02,\n",
       "       -7.82433599e-02,  1.40432268e-02,  1.12827897e-01, -4.04769570e-01,\n",
       "        3.87185775e-02, -1.98864564e-01, -4.05130535e-02, -1.02784768e-01,\n",
       "       -1.66087791e-01, -2.59797961e-01,  7.63811171e-04, -1.50016367e-01,\n",
       "       -3.09170991e-01, -3.06166172e-01, -7.99351931e-02, -2.76609033e-01,\n",
       "       -2.24086419e-01,  4.91823144e-02,  2.45439202e-01, -2.21943840e-01,\n",
       "        1.38009742e-01, -6.28402382e-02,  1.13745287e-01, -3.26078147e-01,\n",
       "       -7.70763829e-02, -3.12850103e-02, -1.01282649e-01, -2.08242878e-01,\n",
       "        2.05012009e-01, -7.19581544e-02, -2.62367070e-01, -1.10115737e-01,\n",
       "       -4.86496873e-02, -7.13306740e-02, -3.77953202e-01, -2.54459500e-01,\n",
       "       -3.46702963e-01, -3.15384120e-01, -3.90040576e-02,  6.60461709e-02,\n",
       "        8.34847540e-02,  4.13489118e-02, -1.48303688e-01,  1.98050365e-02,\n",
       "       -2.46638015e-01, -2.30029002e-01, -2.42522672e-01, -8.26261640e-02,\n",
       "       -1.45959526e-01, -3.93488050e-01, -3.25207263e-02, -1.71569332e-01,\n",
       "        2.55759537e-01, -4.90792900e-01, -1.44472301e-01, -5.26743650e-01,\n",
       "        5.73314726e-02,  1.42140925e-01,  1.35970220e-01,  1.54909477e-01,\n",
       "       -5.89845702e-02, -1.08686760e-01, -2.49952152e-01, -2.12943554e-03,\n",
       "        8.44579116e-02,  5.01912087e-03, -1.10175885e-01, -8.32419619e-02,\n",
       "        4.75383848e-02, -3.47990021e-02, -3.01992923e-01, -3.20907205e-01,\n",
       "       -6.75558746e-01,  8.24786648e-02, -2.41647691e-01, -2.31459960e-01,\n",
       "       -5.70175163e-02,  5.95611483e-02, -2.30286866e-01,  1.08908854e-01,\n",
       "       -1.05206385e-01, -1.31266236e-01,  9.49739590e-02, -3.31145078e-02,\n",
       "        1.96208790e-01, -3.61383140e-01, -2.80610561e-01,  1.73405334e-01,\n",
       "        4.20892417e-01, -1.77587643e-01, -2.00664997e-02,  6.15803041e-02,\n",
       "       -2.04446614e-02,  2.75174528e-02, -7.39212707e-02, -3.34049940e-01,\n",
       "       -5.49344569e-02, -1.08035326e-01, -3.42821740e-02, -5.14516830e-01,\n",
       "       -1.43214762e-01,  1.07905120e-01, -1.13035820e-01,  7.96700194e-02,\n",
       "       -1.15381151e-01, -2.97260225e-01, -2.34066963e-01,  2.14427486e-01,\n",
       "        7.10760430e-02,  7.64016360e-02, -1.45865515e-01, -4.54685330e-01,\n",
       "        1.91144675e-01, -4.39344406e-01,  2.41686285e-01,  1.03321627e-01,\n",
       "       -4.82483476e-01, -2.98939109e-01,  4.71449047e-02, -2.18859062e-01,\n",
       "       -3.77130657e-02, -5.50387800e-03, -3.29460919e-01,  1.34625882e-01,\n",
       "       -1.06033690e-01, -2.30505124e-01, -3.74953821e-02,  2.15648204e-01,\n",
       "        1.35053828e-01, -2.61086076e-01, -1.54124260e-01, -1.05433702e-01,\n",
       "       -1.85326576e-01,  2.57640630e-01,  2.15672106e-01, -2.59823538e-03,\n",
       "       -4.58667219e-01, -3.12757224e-01, -1.10586084e-01, -6.15327060e-03,\n",
       "        3.92298177e-02,  3.74298394e-02,  1.70033015e-02, -4.96401712e-02],\n",
       "      dtype=float32)"
      ]
     },
     "execution_count": 11,
     "metadata": {},
     "output_type": "execute_result"
    }
   ],
   "source": [
    "title = title.tolist()\n",
    "description = text.tolist()\n",
    "embedding_pca_scaled_list = embedding_pca_scaled.tolist()\n",
    "embedding_pca_scaled[0]"
   ]
  },
  {
   "cell_type": "code",
   "execution_count": 12,
   "id": "a787dafd",
   "metadata": {
    "scrolled": false
   },
   "outputs": [
    {
     "name": "stderr",
     "output_type": "stream",
     "text": [
      "C:\\Users\\16500\\AppData\\Local\\Temp\\ipykernel_1880\\2389479420.py:22: DeprecationWarning: Passing transport options in the API method is deprecated. Use 'Elasticsearch.options()' instead.\n",
      "  es.indices.create(index=\"movies\", body=index_mapping, ignore=[400, 404])\n",
      "C:\\Users\\16500\\AppData\\Local\\Temp\\ipykernel_1880\\2389479420.py:22: DeprecationWarning: The 'body' parameter is deprecated and will be removed in a future version. Instead use individual parameters.\n",
      "  es.indices.create(index=\"movies\", body=index_mapping, ignore=[400, 404])\n",
      "C:\\Users\\16500\\AppData\\Local\\Temp\\ipykernel_1880\\2389479420.py:38: DeprecationWarning: Passing transport options in the API method is deprecated. Use 'Elasticsearch.options()' instead.\n",
      "  success, _ = bulk(es, docs, index=\"movies\", chunk_size=998, request_timeout=120)\n"
     ]
    },
    {
     "name": "stdout",
     "output_type": "stream",
     "text": [
      "Successfully indexed 44320 movies.\n"
     ]
    }
   ],
   "source": [
    "# Create Elasticsearch client\n",
    "es = Elasticsearch(hosts='http://localhost:9200')\n",
    "\n",
    "# Create an index map\n",
    "index_mapping = {\n",
    "    \"settings\": {\n",
    "        \"index\": {\n",
    "            \"number_of_shards\": \"1\",\n",
    "            \"number_of_replicas\": \"0\"\n",
    "        }\n",
    "    },\n",
    "    \"mappings\": {\n",
    "        \"properties\": {\n",
    "            \"title\": {\"type\": \"text\"},\n",
    "            \"overview\":{\"type\": \"text\"},\n",
    "            \"vector\": {\"type\": \"dense_vector\", \"dims\": 900}\n",
    "        }\n",
    "    }\n",
    "}\n",
    "\n",
    "#  CREATE INDEX \n",
    "es.indices.create(index=\"movies\", body=index_mapping, ignore=[400, 404])\n",
    "\n",
    "# Create the document data to index\n",
    "docs = []\n",
    "for idx, movie_title in enumerate(title):\n",
    "    embedding = embedding_pca_scaled[idx].tolist()\n",
    "    overview = description[idx]\n",
    "    d = {\n",
    "        \"_index\": \"movies\",  # Assign index name\n",
    "        \"title\": movie_title,\n",
    "        \"overview\":overview,\n",
    "        \"vector\": embedding\n",
    "    }\n",
    "    docs.append(d)\n",
    "    \n",
    "# Batch index document data to Elasticsearch\n",
    "success, _ = bulk(es, docs, index=\"movies\", chunk_size=998, request_timeout=120)\n",
    "print(f\"Successfully indexed {success} movies.\")"
   ]
  },
  {
   "cell_type": "code",
   "execution_count": 72,
   "id": "38b7e83d",
   "metadata": {},
   "outputs": [],
   "source": [
    "start_time = time.time()"
   ]
  },
  {
   "cell_type": "code",
   "execution_count": 73,
   "id": "a51035a7",
   "metadata": {},
   "outputs": [],
   "source": [
    "input_sentence = \"The man had hidden an important microfilm in his passport which the thieves pass onto a forger friend Panadol Tsui Hark Inspector Ng Michelle Yeoh is assigned to the case along with Inspector Morris Cynthia Rothrock from Scotland Yard\"\n",
    "\n",
    "input_sentence = remove_punctuation(input_sentence)\n",
    "\n",
    "input_tokens = tokenizer.encode_plus(\n",
    "    input_sentence,\n",
    "    truncation=True,\n",
    "    max_length=input_length - 2,  # Consider adding the length of the start and end tags\n",
    "    padding='max_length',\n",
    "    return_tensors='pt'\n",
    ")\n",
    "\n",
    "input_ids = input_tokens['input_ids']  # Enter the encoding of the sentence\n",
    "\n",
    "# Add start and end tags to the beginning and end of the input sentence\n",
    "if len(input_ids) < input_length:\n",
    "    input_ids = torch.cat([torch.tensor([tokenizer.cls_token_id]), input_ids.squeeze(), torch.tensor([tokenizer.sep_token_id])])\n",
    "#     attention_mask = torch.cat([torch.tensor([1]), attention_mask.squeeze(), torch.tensor([1])])\n",
    "\n",
    "# If the length of the input sentence is less than input length, fill it in\n",
    "if len(input_ids) < input_length:\n",
    "    num_pad_tokens = input_length - len(input_ids)\n",
    "    input_ids = F.pad(input_ids, (0, num_pad_tokens), value=tokenizer.pad_token_id)\n",
    "#     attention_mask = F.pad(attention_mask, (0, num_pad_tokens), value=0)\n",
    "\n",
    "# Converts the input to a tensor and gets an embedded representation\n",
    "input_ids = input_ids.unsqueeze(0)\n",
    "# attention_mask = attention_mask.unsqueeze(0)\n",
    "\n",
    "with torch.no_grad():\n",
    "    input_outputs = model(input_ids)\n",
    "    input_embedding = input_outputs.last_hidden_state.squeeze(0)"
   ]
  },
  {
   "cell_type": "code",
   "execution_count": 74,
   "id": "33037006",
   "metadata": {},
   "outputs": [
    {
     "data": {
      "text/plain": [
       "17664"
      ]
     },
     "execution_count": 74,
     "metadata": {},
     "output_type": "execute_result"
    }
   ],
   "source": [
    "embedding_np = input_embedding.detach().numpy().reshape(-1).tolist()\n",
    "len(embedding_np)"
   ]
  },
  {
   "cell_type": "code",
   "execution_count": 75,
   "id": "87b9e470",
   "metadata": {},
   "outputs": [
    {
     "name": "stdout",
     "output_type": "stream",
     "text": [
      "[0.438738944442068, 0.6740272632354265, 0.5261202324720423, 0.4750907450772413, 0.31878604143621364, 0.521155912720735, 0.372691333545024, 0.43191353376260094, 0.5838327089555898, 0.4904514895219783, 0.6356202302069138, 0.4532993722797324, 0.40384279080232943, 0.42376847023218434, 0.23154329160950718, 0.5065956953957103, 0.48416330332713503, 0.5298578301281954, 0.47777267618702035, 0.4892678911196422, 0.4518728274148447, 0.45660248433078515, 0.5296893619054487, 0.5696997908111625, 0.5573027530304772, 0.28702913052731394, 0.5983358914622977, 0.5138929833365283, 0.3622364307334524, 0.29815034728108397, 0.41476806193055205, 0.6443493376633881, 0.38544450293396165, 0.48465190368237043, 0.44228621471718793, 0.5888205559446833, 0.4712533969888025, 0.2803308101684022, 0.11740428342330138, 0.39591389023319357, 0.3778650529027232, 0.3868670645672167, 0.25830567718453584, 0.3804373779269912, 0.5187151893830273, 0.36955072184854665, 0.7597245849701436, 0.6064798553199853, 0.4229367598448739, 0.4834590890454884, 0.8035039000956203, 0.2257626238838178, 0.578593214692142, 0.48072361458942187, 0.28684629039293913, 0.4776239906905081, 0.48254218250114456, 0.40578439788364784, 0.6727168774319854, 0.4160429944281867, 0.4231139720400636, 0.56640584983004, 0.29620302439605156, 0.5756235561688697, 0.5908101563080467, 0.26173440857730307, 0.2733465976506527, 0.6847071972905131, 0.4330850585732569, 0.43005867295375616, 0.4152611486668774, 0.559665535016433, 0.5141662908544912, 0.3394640397906778, 0.6499590870655889, 0.3715536082920836, 0.436337059631708, 0.6544642286720533, 0.44928962163679564, 0.42515041202860565, 0.22564671951297086, 0.4232082344595905, 0.47988087955693937, 0.4485643994087001, 0.5953017180412802, 0.7738045212850505, 0.4607013366223246, 0.5696074948530416, 0.742298902539187, 0.5534873784806033, 0.2098613498983094, 0.6113547703993739, 0.602886164911806, 0.3918793312513285, 0.6045269146172595, 0.32652861485252466, 0.3748864802413426, 0.3478341528137582, 0.2655522281199845, 0.32153118763119587, 0.7239198710927216, 0.3732199843291268, 0.2846865903615745, 0.3859574832400525, 0.3840394924322552, 0.5800702519834209, 0.6394424186564532, 0.4731476198765437, 0.7678667549996231, 0.3772991547411867, 0.3204967331685409, 0.4007454972700618, 0.5089986370238315, 0.3999077864554836, 0.5787882831494687, 0.7015915948683817, 0.3891482490320233, 0.5484709716129255, 0.6792637840605964, 0.4874821710923282, 0.6370017300604216, 0.41096750599450294, 0.4159884981509508, 0.49746732976917074, 0.5583975295191596, 0.515871695421266, 0.5523515606073852, 0.6473499398444369, 0.5903536648385626, 0.41504789082715465, 0.4444877479928395, 0.5821882239801696, 0.44858435693921916, 0.6262039600720977, 0.6712802955532808, 0.7495008916184885, 0.47091719693454914, 0.5671937600174555, 0.6153965866473088, 0.608913309604687, 0.46004284131986733, 0.6461947512508623, 0.4074586955126891, 0.4148704156390267, 0.6005943957814242, 0.5193736333191677, 0.5756303613867753, 0.5990290726535601, 0.527222437165688, 0.7114163973036846, 0.6114307256162681, 0.2709637998070031, 0.5130875722775646, 0.5960159119215713, 0.3987144307106163, 0.48686928623686687, 0.4022047320935561, 0.5661329965431734, 0.603676390391325, 0.4627455177286786, 0.48603586495440737, 0.49502149009519403, 0.47502761010543243, 0.44781928782779246, 0.2501246695705101, 0.4887469694240331, 0.5361645079114491, 0.46821974876719824, 0.4844121086080633, 0.49961404256285935, 0.5387610734880744, 0.3126500481261203, 0.17846026934140452, 0.6471604427814717, 0.35339378899368656, 0.6294227494197451, 0.41880286399680083, 0.4144064152892925, 0.6466502355230602, 0.7040687721158445, 0.13925486866770728, 0.5747631700722527, 0.22072357455175023, 0.4557490510790924, 0.5365884847044537, 0.6127891503729233, 0.22926233690268802, 0.4713266385836828, 0.4542444647535254, 0.37094824398619325, 0.49952501117739445, 0.323209826922294, 0.45482431538325846, 0.5330573406568503, 0.41453978932415014, 0.3937066829044705, 0.5390412425280987, 0.4682191141969555, 0.581608928349452, 0.5198346965072469, 0.7551674489028593, 0.5309521113980129, 0.45424081242319825, 0.6053722699453992, 0.3951728699221707, 0.3575948504286151, 0.43541813217005415, 0.37515422200055654, 0.5802353942288142, 0.38462308386942423, 0.343986038351076, 0.454445588348896, 0.48823590384477517, 0.6024367153621681, 0.5673769901326952, 0.6499137886417004, 0.5975841693664956, 0.3203559746362402, 0.5706980180142668, 0.6999741888620806, 0.49358429912691165, 0.4834071846947864, 0.5573437817332807, 0.3964732712867261, 0.32055760816322665, 0.5342328834692652, 0.4130904895863365, 0.47439533755531615, 0.6275130777938177, 0.5468405353228727, 0.25580417831674646, 0.17734135000111517, 0.4672835341177394, 0.3589328444923558, 0.4684542493557242, 0.421569388546828, 0.4743490944628183, 0.5406560513535614, 0.5118663238182676, 0.2649397977507787, 0.45049014970221934, 0.4413544059745367, 0.44379761987865207, 0.5194109096718726, 0.6120715632511191, 0.41610488630333975, 0.42749220051038034, 0.4360970614511405, 0.6357467742113855, 0.46368923133845613, 0.35710451220961215, 0.43531426276237944, 0.5935453477457249, 0.35945219890929897, 0.45805856200276224, 0.1661589946558028, 0.36028022242566243, 0.5673019591978364, 0.6462035162442828, 0.5256385517950659, 0.39076478342450965, 0.2359949087754613, 0.3339619041057109, 0.5958121560868176, 0.520968507237725, 0.3151704109940423, 0.3037959476249109, 0.4244479421525536, 0.5279628061697433, 0.6771534653229293, 0.49042178813909787, 0.4162010212679018, 0.455933192113464, 0.6399670926592034, 0.28904936058740455, 0.6668694886418479, 0.41779536797137784, 0.4123344244824663, 0.4590773488429567, 0.39348386740568275, 0.33113491288330527, 0.4066493075656153, 0.5270159923190824, 0.5207734759293291, 0.6659984035725507, 0.3053637920681725, 0.49073434077667594, 0.517745956337485, 0.34800129308841027, 0.3498391411722324, 0.3157412022973579, 0.39918217276204665, 0.19234695330970553, 0.5524560161298288, 0.4142658330700556, 0.599432110247052, 0.38857815476259233, 0.280050982449243, 0.5258722603482667, 0.5835845143036013, 0.45707972756823556, 0.4343030722086329, 0.3433705279213097, 0.2269722648452594, 0.5025258607270913, 0.6330292290765596, 0.5339585955353439, 0.5515350699555576, 0.5388961766972253, 0.6593582243292948, 0.49770543305167797, 0.6408508801273467, 0.5271673682725312, 0.26123963669829026, 0.09478727263010475, 0.6815218427399503, 0.4416676735185064, 0.7372585810702367, 0.6634715225248836, 0.44854446837032896, 0.5035070607738348, 0.6388504371634185, 0.425853589316748, 0.6918816373619208, 0.5227219332974921, 0.487203473637157, 0.42168322715399453, 0.45486971447240493, 0.45395816924312343, 0.26176297099492263, 0.30866837090633686, 0.4280560775671382, 0.573354487891827, 0.47977636043677285, 0.6155684129842856, 0.492894254196062, 0.5472211498809945, 0.6514461559299538, 0.4149415493766645, 0.2765706591997633, 0.4322922564289311, 0.22067704572055796, 0.6270258613006481, 0.39494688165305747, 0.389245950571493, 0.47664200269998414, 0.3219616176335577, 0.5010084771587366, 0.49151542900979345, 0.3955880300375669, 0.28431360477653583, 0.4052082302880232, 0.5995170572131601, 0.5170688964179088, 0.44699636941683346, 0.5367894133286798, 0.6206195114182924, 0.3701087330051018, 0.3142959206848081, 0.3960584741551468, 0.4020642326847836, 0.5176693014182945, 0.43095068799989017, 0.6122734234814075, 0.3580290956413657, 0.4174077958110585, 0.4590835944510811, 0.3490822562910073, 0.4140766255411383, 0.5077189496873317, 0.44645396219608313, 0.4764361276477976, 0.3781691192250226, 0.46271277069829647, 0.28743314834848843, 0.7279847379760758, 0.33231469052608154, 0.30850899712247215, 0.6008975871335089, 0.49284538920526727, 0.394494988496089, 0.4033467015772083, 0.5685355794330825, 0.4717905420443893, 0.4607052689851834, 0.3524102216787532, 0.5443532177123488, 0.5458853394058802, 0.3918261861433002, 0.5955231674057352, 0.29653159060657275, 0.3346996137981658, 0.5856975197413475, 0.3633314440304628, 0.43528099140991333, 0.5302109740895276, 0.4105563252266219, 0.5071239610358735, 0.756336906615174, 0.3168210120922664, 0.6413076762965217, 0.5094454704586902, 0.5238599099270846, 0.5537919107562448, 0.34174295490466716, 0.3411444326232965, 0.5539296612105827, 0.6564961432610489, 0.651860728008031, 0.4109062098234203, 0.6039304000752209, 0.49153215235106085, 0.5035374770888014, 0.3941793115217781, 0.44125579622939054, 0.41178196067619705, 0.6247766342586025, 0.5512904298362504, 0.473607450312669, 0.7608646672024647, 0.41730497555642154, 0.55131308131952, 0.5887640859522216, 0.5305666057964638, 0.520468280920784, 0.4378299702853046, 0.5824687050619562, 0.3448939897943972, 0.5868841986982681, 0.7032058680849201, 0.43068086155035595, 0.5271235682650444, 0.5444908828955993, 0.23101995549989354, 0.6836551513742196, 0.511851444564208, 0.4101758096922691, 0.4846927121457101, 0.34273269499721754, 0.5552991710862925, 0.38608477858936135, 0.3106492049209904, 0.6570654289662138, 0.6721272620928622, 0.4922869386308994, 0.49836761382998696, 0.6858991976476633, 0.4401949030457029, 0.32150607609146753, 0.3601933352717055, 0.2570352863200223, 0.36244031194438975, 0.4588821826031287, 0.3271407940729159, 0.5227801471601637, 0.481446786274279, 0.4866892716180521, 0.378963326693688, 0.4381848305411244, 0.30682072303468705, 0.27483171879787066, 0.5418734139374409, 0.532810014845043, 0.39390799012806715, 0.42166076083654286, 0.5729656742239049, 0.5130523492342771, 0.6215928549011085, 0.4990971068149892, 0.5186371029268744, 0.4177239003401819, 0.31545737294338755, 0.41373391494519735, 0.40296789746481826, 0.3668299913950039, 0.595143303085518, 0.28757498755700367, 0.48674085571146, 0.46618412093004097, 0.5471014360931273, 0.5102129683669954, 0.3839450665197128, 0.6576852631814251, 0.16481859694106132, 0.5196564408679153, 0.3731656588330485, 0.5103077433658072, 0.272855627695424, 0.5663816222102448, 0.6254577933478923, 0.6132732078501562, 0.4779445877161887, 0.3200688369261259, 0.42894108844860507, 0.6413383596831099, 0.5114573855554506, 0.30128270729552165, 0.6636373947629302, 0.4264708022008952, 0.49999390269305705, 0.44176571960381517, 0.6581387953768661, 0.6740883263332506, 0.5052091055562964, 0.598373765749599, 0.505683786072654, 0.6565185837750079, 0.33227615243950126, 0.6026186718882764, 0.4133680206097498, 0.4077923723379961, 0.47211262386460817, 0.38134721985030895, 0.33586729503995677, 0.2716778388655439, 0.6438805154500914, 0.47912385716630795, 0.35839969721399834, 0.45322633442426624, 0.4171101806504728, 0.43549152524077667, 0.41489205869304213, 0.4933206226570357, 0.5623686596412294, 0.5571003646508016, 0.5929247997355077, 0.43889329880292394, 0.37490604116003423, 0.32410063306243975, 0.5136786448110988, 0.4177103718766314, 0.7387149710591859, 0.6510832600019435, 0.48401825340039945, 0.37778711507864987, 0.5058427055302953, 0.30736726223961097, 0.35213567006889185, 0.7741911706581464, 0.5060771412682499, 0.5168202951979939, 0.37621972576864, 0.5337933399603548, 0.33914699876726323, 0.3937849381795934, 0.5308748177353982, 0.6589559247593584, 0.4206659277203209, 0.36905711932653684, 0.6326173554153243, 0.6941585516309421, 0.6117345393271231, 0.4949378101528365, 0.4917337060303541, 0.4753206624226297, 0.5393478772741855, 0.3453324548114732, 0.1870858126445305, 0.43921931081311877, 0.2513704816257324, 0.26568616269795675, 0.43549339162990797, 0.4461970407747805, 0.7370360844633163, 0.1322129837723214, 0.4109530269306623, 0.2617636692550277, 0.5795319013805773, 0.41361701858764266, 0.5194973608864788, 0.6647182795727784, 0.17680037839565638, 0.3511858433582068, 0.5071288517340241, 0.3306342091710208, 0.4595378104792456, 0.5677101705604175, 0.31621385694416027, 0.37066815101948397, 0.46561929296241467, 0.50800790956411, 0.8084493850846122, 0.5452798107548038, 0.514112030235523, 0.43014135934978287, 0.3454011985369225, 0.4651531540407115, 0.4274785749043632, 0.5793137269779088, 0.5430426583468682, 0.49329851199556785, 0.5086560170629312, 0.550792580823689, 0.4844074946050098, 0.43222587038063065, 0.48994487379179047, 0.5265769802811293, 0.6217367637021477, 0.6561848730388101, 0.25808351206951957, 0.5299116066781441, 0.30683276407583165, 0.33110842664160917, 0.4724776851985508, 0.4841566023236287, 0.5846088063401549, 0.694884984657014, 0.5193891769234141, 0.42065474763750293, 0.46626223398659655, 0.5888386944192808, 0.6703790832123018, 0.5724348303689863, 0.443284983687271, 0.7125643281551622, 0.3794772100733045, 0.5920379995031678, 0.5514513283995408, 0.5745260058331847, 0.5801216763454817, 0.6163140316042308, 0.6425727357481651, 0.4137554265286986, 0.4208913500755794, 0.6618488189417986, 0.5567793721620398, 0.3713226594683177, 0.5690271819902041, 0.4244627807270104, 0.4848089747081924, 0.23757240847073133, 0.7359954273326292, 0.40443643643725763, 0.4947965305788387, 0.44430399391686687, 0.39787225772236284, 0.43841323431901946, 0.5107115410846159, 0.4909991065339627, 0.38392209019965834, 0.3097402877711348, 0.4179523360538387, 0.3494600900443693, 0.5145814809846172, 0.41710771489211346, 0.5258163979764432, 0.4706545248709351, 0.5129305529632493, 0.5357426366342574, 0.3912369111046512, 0.2906321135303668, 0.6365908331118976, 0.62933268452554, 0.5935274293199466, 0.27966752329901473, 0.41786669857630315, 0.5818228910927723, 0.4832948246037009, 0.5435057763441553, 0.4355802342761928, 0.15766894526370417, 0.3740036797057507, 0.2627016880510548, 0.5774837954853559, 0.3315325382479728, 0.6304713606314954, 0.6295653920121366, 0.555467130487295, 0.6171405478904806, 0.5010704367095015, 0.5847103963484241, 0.7032207185472332, 0.5434791814286277, 0.3744050043220498, 0.2838622799299685, 0.39476983859446857, 0.4357689171843054, 0.3989341916322872, 0.4224986148118781, 0.7355446594151067, 0.37637716650804903, 0.5266631719582006, 0.3571456412632836, 0.6354472908994292, 0.7210953810262425, 0.6016216689256147, 0.6261029407467458, 0.462111434130154, 0.3281168157838392, 0.5305842002353771, 0.42614741786519056, 0.3432665576242619, 0.38752243688537535, 0.6731219792836509, 0.4761333574230025, 0.5407349642023428, 0.37293621430297647, 0.7961479172499237, 1.017595231683729, 0.3936655957900716, 0.6318532717318959, 0.8076976560123422, 0.3300240822679772, 0.5525627612746034, 0.4832162670323979, 0.4319237380708499, 0.7342319063774896, 0.45378329218006513, 0.3896721919972777, 0.6931412146306356, 0.4330063571202684, 0.38855294516901673, 0.6072780767492028, 0.3449179436791557, 0.585325751047283, 0.4253801678422717, 0.5346715148142706, 0.4620889903527532, 0.4820457943224445, 0.5728445509711159, 0.5372890655768017, 0.537812353037461, 0.4500904727218359, 0.33196185618661, 0.6472777626774934, 0.5114378677180825, 0.35656615008007714, 0.6128402261936766, 0.5592603665660977, 0.5551052391735845, 0.6906794052205177, 0.4985173082638377, 0.4867226909092569, 0.4895402569613774, 0.386817001342242, 0.4719987454586708, 0.5351544949251542, 0.28264473446693694, 0.5435876585175244, 0.4562595223788258, 0.5525472238347313, 0.4974407790017952, 0.4812308671516359, 0.6121564280067373, 0.3939810022338591, 0.4832585407052494, 0.30436166171763185, 0.5195785220357636, 0.5250362333234191, 0.5197400814605865, 0.3246447350901605, 0.4461666337001214, 0.47651146902671376, 0.5147382555695081, 0.4450105333819331, 0.28411314332503157, 0.45284928719028533, 0.11414432910495814, 0.5295704730433345, 0.48756007724058076, 0.518474803630284, 0.5390159422705951, 0.5930517350346398, 0.4633100063779253, 0.44111444642074216, 0.7667804799660176, 0.24333718949720815, 0.43962262204834396, 0.45771559782382115, 0.44948462169050735, 0.6131877521251861, 0.48066212536627545, 0.470551225314873, 0.40298462389115713, 0.22201650005202908, 0.36595429237602334, 0.7611366594176923, 0.46853063553150603, 0.6815933517862399, 0.35724411847256965, 0.632370767840041, 0.6266640318849326, 0.42504963626260417, 0.7354996222991604, 0.4998630757546975, 0.5712057483393475, 0.5007742209858069, 0.4998191530367322, 0.4028625666308806, 0.37556485585459826, 0.8440182603374193, 0.5108687564593783, 0.42593737295058565, 0.5190097871318469, 0.38082742615633036, 0.3351818214690556, 0.6917550248240164, 0.4030307725239548, 0.2880648598024593, 0.6054395055700426, 0.47663355008469516, 0.4962627753218872, 0.7046743162116936, 0.5112110228094384, 0.26311569264772294, 0.5777657729590583, 0.5139103320783742, 0.3446644711601485, 0.6126266601975644, 0.40675999213715247, 0.3425970189686601, 0.447857569098551, 0.5827055607643892, 0.6081347700939992, 0.3786003125837343, 0.4162343640246443, 0.4120021744125187, 0.8305769850122305, 0.4753810786658075, 0.28266631412376264, 0.4794492125273598, 0.5985320233607526, 0.5771616550004837, 0.5869600281986826, 0.5444664288315385, 0.550338913346278, 0.5276574326921977, 0.25687046320514567, 0.5465102420710505, 0.7069425881827169, 0.4893264396234173, 0.5289402539934368, 0.7061702280196583, 0.5976722605634401, 0.6675410489071019, 0.8287351137409533, 0.35588217532830124, 0.3071395551514727, 0.6080490434267921, 0.529266455383151, 0.3110349963530685, 0.4005317465373221, 0.39504629836974675, 0.4643451892428939, 0.3660587601803954, 0.4262761884963125, 0.930165025498713, 0.6845277598759981, 0.36573195934988195, 0.5300687589935557, 0.4988473721423704, 0.4324669659143595, 0.5432342513074708, 0.4856638871955142, 0.494932573570087, 0.21267387748008662, 0.5769795148307106, 0.4017391546096815, 0.7065254675000963, 0.5221216371375016, 0.3396718049793455, 0.513595226235809, 0.7234983604599701, 0.4712455207943989, 0.5927159876725924, 0.3828568086479745, 0.3673470000523442, 0.5638716850939717, 0.5748777875849809, 0.267062299915894, 0.6372879445254148, 0.5370809236891395, 0.4840674199176978, 0.41766308679315617, 0.5043302966916556, 0.7634654316580295, 0.6518242133818583, 0.6282992200943799, 0.41078826105896604, 0.376427809883241, 0.2224582445918888, 0.4959015357515628, 0.43140189165925996, 0.5971595471654152, 0.3602727385610723, 0.5952733882978404, 0.5675138878359155, 0.4187149693462678, 0.4824600038435781, 0.5639789727530421, 0.35055727158313027, 0.38510945512653, 0.31495850278707793, 0.5534106767970535, 0.11519837103386776, 0.4738723887837658, 0.4457094926955249, 0.41532123487241396, 0.6936998370708788, 0.5511268116697052]\n"
     ]
    }
   ],
   "source": [
    "# Convert embedding_np to a NumPy array\n",
    "embedding_np_array = np.array(embedding_np)\n",
    "\n",
    "# The transformation was performed using the previously trained PCA model\n",
    "input_pca = pca.transform(embedding_np_array.reshape(1, -1))\n",
    "\n",
    "input_pca.shape\n",
    "# Use MinMaxScaler for standardization\n",
    "scaler2 = MinMaxScaler(feature_range=(-1, 1))\n",
    "scaler2.data_min_ = min_val\n",
    "scaler2.data_max_ = max_val\n",
    "\n",
    "normalized_data = (input_pca - min_val) / (max_val - min_val)\n",
    "\n",
    "# Convert the result to a 1x900 list\n",
    "normalized_data_list = np.squeeze(normalized_data).tolist()\n",
    "\n",
    "print(normalized_data_list)\n",
    "\n",
    "# scaler1"
   ]
  },
  {
   "cell_type": "code",
   "execution_count": 76,
   "id": "1b27b9ef",
   "metadata": {
    "scrolled": true
   },
   "outputs": [
    {
     "name": "stdout",
     "output_type": "stream",
     "text": [
      "Title: Symmetry Description: Dwudziestoszeioletni kasz niessznie poszony o napad na starszkobiet trafia do aresztu edczego Adwokat wynajy przez matkbezskutecznie pruje go stamt wydosta Pod wpwem dramatycznych wydarzew celi przejiowej kasz za wszelkcenchce znale siw grypsujej czci wini iat git wymaga jednak przestrzegania panujych tu twardych zasad Reser uzyskazgodMinistra Spraw Wewnrznych na realizacjzdj w wiieniu na Biace\n",
      "\n",
      "Title: Komedia malzenska Description: Maetwo Marii i Wiktora przechodzi kryzys Kobieta postanawia pokazamowi jak trudna jest praca w domu dlatego wyje do innego miasta Jak poradzi sobie Wiktor z ziei i wszystkimi obowikami Jak Maria da sobie radw wielkim mieie \n",
      "\n",
      "Title: Jasminum Description: Dzieje siwspczeie Jasminum cika nazwa jainu opowiada historitajemniczi magiczn pezmyswych zapach wypeionszczegnym iatm jakie roztacza wok siebie mi Klasztor w ktym toczy siakcja filmu nie rniy siod innych gdyby nie fakt  trzech mieszkajych tam zakonnik posiada pewnniezwyk cech Kay z nich pachnie innym owocowym zapachem jeden czeremch drugi czerei a trzeci iw a zapachy te majszczegne wiwoi Pewnego dnia do klasztoru przyje mda konserwatorka malarstwa kta otrzymuje zlecenie odnowienia tamtejszych obraz Natasza pojawia siw Jainowie wraz ze swoj5letnickGieni Urok i dociekliwo dziewczynki wprowadzajwiele zamu w spokojne dot cie mnich W tej historii i ludzie i budynki i zapachy majswoje tajemnice\n",
      "\n",
      "Title: Baby sa jakies inne Description: Dwh prawdziwych facet ktych poczy ekscytuja nocna wyprawa najbardziej niegrzeczni w swojej karierze Robert Wikiewicz i Adam Woronowicz stawia czo zmasowanemu atakowi  perfidnych przedstawicielek pi przeciwnej i rozprawia size wszystkimi okowami mkiej swobody w sfeminizowanym iecie\n",
      "\n",
      "Title: Jasne B鑹傝噵kitne Okna Description: Film o przyjai dwh dziewcz kte poznajsiw dziecitwie Majswoje marzenia i plany kte w przyszilm o przyjai dwh dziewcz kte poznajsiw dziecitwie Majswoje marzenia i plany kte w przyszi sispeiaj Jedna z nich Becia zostaje znanaktork Druga z bohaterek Sygita zostaje krawcow ma ma dom i tak jak chcia pozostaje na prowincji bo ten kawak nieba kocha najbardziejci sispeiaj Jedna z nich Becia zostaje znanaktork Druga z bohaterek Sygita zostaje krawcow ma ma dom i tak jak chcia pozostaje na prowincji bo ten kawak nieba kocha najbardziej\n",
      "\n",
      "Title: U Pana Boga za piecem Description: Krowy Most to miasteczko gdzieprzy wschodniej granicy z koielnwie gujnad okolici ztkopu cerkwi z charyzmatycznym proboszczem i possznymi parafianami iat w ktym czas skawie sizatrzyma Sennatmosferzakca pojawienie sienergicznej Marusi kta przekracza polskgranic by zarobisprzedaj towar na bazarze Obrabowana przez raketier zwraca sio pomoc do miejscowej policji Komisarz rozpoczyna edztwo a Marusia jako koronny iadek zostaje umieszczona na plebanii\n",
      "\n",
      "Title: Fimfarum 2 Description: y zbrusu novpohky pro chytrdi a chytrdospz oblenknihy Jana Wericha Klasik animovano filmu Btislav Pojar natol slavnpb malio Palea plnzvrata dobrodrutvo jeho cestdo sva a zase dom Pod veden Aurela Klimta ojt navzem si podobnhrbatbrat Hrbi z Damau pnejatmosfu exoticko Blko vhodu s pestrostorientno vypravstv ale ptom o vech n vch dob znh Vlasta Pospilovve Tch sestrh a prstenu vyprvesnickdekameronsknod o tom jak pro sku o prstek zblbnout t milujchot A Jan Balej dovolbratr Markovi a Koubovi prot prastarpohkovpb o kouzeln mlku zisti rtech s originn vysvlen jednoho prodno azu v pohce Mo strku proje slan\n",
      "\n",
      "Title: O princezn鑷?Jasn鑷巒ce a l鑼卼aj閾哻閾唌 鎷vci Description: Pohka o mlad vcovsk tovaryvi Jovi ktersi vyrobil z jemnke kdla s jejichpomocvysvobodil z ve krovsko hradu princeznu Jasnku kam ji zavl jejotec v marnsnaze zabrit vtbzlrodnice a posle ji vymanil i z moci samotnrodnice a jejdcery rnavy  official text from distributor\n",
      "\n",
      "Title: The Leaning Tower Description: Mittapahtuu kun yhdessmiehessasuu kaksi ihmist joista toinen on tietoinen toisen olemassaolosta mutta toinen ei Liikuttava kertomus vie kolme ihmisteri sukupolvista keskelle Eurooppaa\n",
      "\n",
      "Title: Stormforce Description: Na een ncidentjetijdens een receptie voor de hoogste legertop wordt duiker Rick Symons naar het 40ste Search and Rescue smaldeel in Koksijde gestuurd Rick wordt er opgenomen in een even competente als aparte Sea King crew Zijn grootste verrassing is Alex de vrouwelijke medic waarmee hij eerder al een kleine schermutseling heeft gehad De overplaatsing naar Koksijde dwingt Rick tot nog een\n",
      "\n",
      "Title: Buttoners Description: Je to film sestajze sti povek ktervnou rnhumornou ironickou mnohdy i trpce hoou formou vypro jednom dn proklet lidskneve podivnh hylkh nekan zraku i pokryteck odpu Majsvou vlastnvypointovanou stavbu specifickou atmosfu i zpob zpracov a psto jedna druhpdmotivy vzemnspolu komunikuja pozorujtyt vi z rnh l oficintext distributora\n",
      "\n",
      "Title: Hokkabaz Description: kender Cem Ymaz hokkabazd Yani aslda sihirbazd Ama onun ve cukluk arkada Maradonan Tuna Orhan dda herkes onun hokkabaz oldunu dmektedir tanbuldan hla kaak zorunda kalan ikili turne programa Saiti Mazhar Alanson de dahil ederek b risk allar Baba Sait kenderi takdir etmeyi uzun ylar evvel bakmt Turne lkaynaken aynzamanda gkemli bir dalmaya sebep olur kender Maradona ve Sait yol arkadaarFatma ile bir dal bir toparlanlar\n",
      "\n",
      "Title: Splinters Description: Film ten ukazuje kilka dni z cia trojga mdych mieszka jednego ze kich miast Marta planuje ub Robert je sobotnim meczem ukochanego klubu a Bartek wie kozy studia Ich cie jest uporzkowane i przewidywalne Kaemu z bohater przydarzy sijednak co co ka mu powaie sizastanowinad dotychczasowym sposobem myenia o sobie i swojej przyszi\n",
      "\n",
      "Title: 0 Description: Klasa II B jako zadanie domowe otrzymuje do napisania wypracowanie pod tytum Kim zostan gdy dorosn Anusiak\n",
      "\n",
      "Title: Mr. Kuka's Advice Description: Dwudziestoparoletni Waldemar postanawia wyjechana wakacje by trochpozwiedza a tak poszukasezonowej pracy Zwraca sipo raddo swego siada pana Kuki  w przeszi turysty zarobkowego Pan Kuka o krajach Zachodu wie wiej niniejeden przewodnik Za jego namow Waldemar decyduje sina podr do Wiednia Pen entuzjazmu z plecakiem obdowanym konserwami staje przed poleconym przez Kukautobusem Spotyka go jednak niespodzianka  pojazd to rozlatujy sigrat w dodatku pen pseudoturyst przemycajych do Austrii wzonkieasi wk\n",
      "\n",
      "Title: Yes, Madam Description: Asprin Mang Hoi and Strepsil John Shum two petty thieves who inadvertently become involved in a murder case when they steal items belonging to a murdered man The man had hidden an important microfilm in his passport which the thieves pass onto a forger friend Panadol Tsui Hark Inspector Ng Michelle Yeoh is assigned to the case along with Inspector Morris Cynthia Rothrock from Scotland Yard The investigation leads the cops to the bumbling crooks and soon they are on Triad leader Tins James Tien tail he will stop at nothing to get the incriminating film back and with his hitman and bodyguard Dick Wei at his side he proves too much for the inspectors to catch using legal means in frustration they give up their badges and go after Tin alone\n",
      "\n",
      "Title: Road Description: Arvind Chauhan  and Lakhsmi are in love with each other Lakhsmis dad a senior police inspector hates Arvind and so Arvind and Lakshmi decide to elope\n",
      "\n",
      "Title: Hell's Bells Description: Yevgeny Yevstigneyev Georgy Burkov Leonid Yarmolnik Galina Polskikh in a sad comedy by Sergey Nikonenko based on Vasily Shukshin short stories ouches on the Portrait he Stubborn One he Strong Go Further Nikolai Knyazev works in a TV repair shop God has blessed him with golden hands and heart yet the majority of his fellowtown folk think he a bit nutty And for a good reason he constructing a perpetual motion machine for years has been writing a philosophical treatise dreaming of world fame and looking down on the other inhabitants of this sinful earth But no matter how hard he is looking he can see where his happiness that is postoffice employee Lyuba lies3e06oQZK49U0L4UCVf4BEUubyUcCvjYjpgname Gorky Film Studios\n",
      "\n",
      "Title: The Innocent Description: Tullio Hermil is a chauvinist aristocrat who flaunts his mistress to his wife but when he believes she has been unfaithful he becomes enamored of her again\n",
      "\n",
      "Title: How Much Does the Trojan Horse Weigh? Description: At 40 Zosia Ilona Ostrowska has a happy second marriage a welladjusted daughter a good career and a comfortable home in Warsaw But as she and her family usher in the year 2000 she wishes some things in her youth had happened differently and shes magically transported back to 1987 when she was still married to her womanizing first husband Darek Robert Wikiewicz and lived in the Peoples Republic of Poland\n",
      "\n"
     ]
    },
    {
     "name": "stderr",
     "output_type": "stream",
     "text": [
      "C:\\Users\\16500\\AppData\\Local\\Temp\\ipykernel_1880\\3624737538.py:16: DeprecationWarning: The 'body' parameter is deprecated and will be removed in a future version. Instead use individual parameters.\n",
      "  response = es.search(index='movies', body=body)\n"
     ]
    }
   ],
   "source": [
    "def search_similar_movies(query_vector, top_k):\n",
    "    body = {\n",
    "        \"query\": {\n",
    "            \"script_score\": {\n",
    "                \"query\": {\"match_all\": {}},\n",
    "                \"script\": {\n",
    "                    \"source\": \"cosineSimilarity(params.query_vector, 'vector') + 1.0\",\n",
    "                    \"params\": {\"query_vector\": query_vector}\n",
    "                }\n",
    "            }\n",
    "        },\n",
    "        \"_source\": [\"title\",\"overview\"],\n",
    "        \"size\": top_k\n",
    "    }\n",
    "\n",
    "    response = es.search(index='movies', body=body)\n",
    "    similar_movies = [hit['_source']['title'] for hit in response['hits']['hits']]\n",
    "    description = [hit['_source']['overview'] for hit in response['hits']['hits']]\n",
    "    return similar_movies,description\n",
    "\n",
    "# Assuming you already have query_vec tor, you can use the following code to invoke the function that searches for similar movies\n",
    "similar_movies,description = search_similar_movies(normalized_data_list, top_k=20)\n",
    "for i, j in zip(similar_movies,description):\n",
    "    print(\"Title: \"+ i + \" Description: \"+j)\n",
    "    print(\"\")\n",
    "\n",
    "# print(description)\n"
   ]
  },
  {
   "cell_type": "code",
   "execution_count": 77,
   "id": "6f6a2ad0",
   "metadata": {},
   "outputs": [
    {
     "name": "stdout",
     "output_type": "stream",
     "text": [
      "Time elapsed: 2.1225385665893555 seconds\n"
     ]
    }
   ],
   "source": [
    "end_time = time.time()\n",
    "print(\"Time elapsed:\", end_time - start_time, \"seconds\")"
   ]
  }
 ],
 "metadata": {
  "kernelspec": {
   "display_name": "Python 3 (ipykernel)",
   "language": "python",
   "name": "python3"
  },
  "language_info": {
   "codemirror_mode": {
    "name": "ipython",
    "version": 3
   },
   "file_extension": ".py",
   "mimetype": "text/x-python",
   "name": "python",
   "nbconvert_exporter": "python",
   "pygments_lexer": "ipython3",
   "version": "3.10.7"
  }
 },
 "nbformat": 4,
 "nbformat_minor": 5
}
